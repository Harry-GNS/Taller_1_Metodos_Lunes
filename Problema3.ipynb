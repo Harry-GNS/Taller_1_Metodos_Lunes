{
 "cells": [
  {
   "cell_type": "markdown",
   "id": "56280523",
   "metadata": {},
   "source": [
    "## Ejercicion 3\n",
    "# Integrantes: \n",
    "- Joel Tinitana\n",
    "- Harry Guajan "
   ]
  },
  {
   "cell_type": "markdown",
   "id": "d5087a36",
   "metadata": {},
   "source": [
    "## Pseudocódigo\n",
    "### Procedimiento `iterative(n)`\n",
    "\n",
    "```pseudo\n",
    "procedure iterative (n: nonnegative integer)\n",
    "    if n = 0 then\n",
    "        return 0\n",
    "    else if n = 1 then  // Agregamos caso n=1 explícitamente para claridad\n",
    "        return 1\n",
    "    else\n",
    "        x := 0  // Representa F(i-1)\n",
    "        y := 1  // Representa F(i)\n",
    "        for i := 1 to n - 1 do  // Genera términos desde F(i+1) hasta F(n)\n",
    "            z := x + y          // Calcula el siguiente término F(i+1)\n",
    "            x := y              // Actualiza F(i-1) al valor anterior de F(i)\n",
    "            y := z              // Actualiza F(i) al nuevo F(i+1)\n",
    "        end for\n",
    "        return y  // Al final, y contiene F(n)\n",
    "    end if\n",
    "end procedure\n"
   ]
  },
  {
   "cell_type": "markdown",
   "id": "e3921827",
   "metadata": {},
   "source": [
    "## Código"
   ]
  },
  {
   "cell_type": "code",
   "execution_count": 5,
   "id": "4b4d9731",
   "metadata": {},
   "outputs": [
    {
     "name": "stdout",
     "output_type": "stream",
     "text": [
      "El término 11 de la sucesión de Fibonacci es: 89\n"
     ]
    }
   ],
   "source": [
    "def fibonacci_iterative(n: int) -> int:\n",
    "    \n",
    "    if n < 0:\n",
    "        raise ValueError(\"n debe ser un entero no negativo\")\n",
    "    if n == 0:\n",
    "        return 0\n",
    "    elif n == 1:\n",
    "        return 1\n",
    "    else:\n",
    "        x = 0  # Corresponde a F(i-1)\n",
    "        y = 1  # Corresponde a F(i)\n",
    "        for _ in range(2, n + 1):  # Bucle para calcular desde F2 hasta Fn\n",
    "            z = x + y\n",
    "            x = y\n",
    "            y = z\n",
    "        return y\n",
    "\n",
    "try:\n",
    "    n = int(input(\"Ingrese el valor de n (entero no negativo): \"))\n",
    "    resultado = fibonacci_iterative(n)\n",
    "    print(f\"El término {n} de la sucesión de Fibonacci es: {resultado}\")\n",
    "except ValueError as e:\n",
    "    print(f\"Error: {e}\")\n"
   ]
  },
  {
   "cell_type": "markdown",
   "id": "93e8dfa2",
   "metadata": {},
   "source": [
    "## Pseudocódigo \n",
    "\n",
    "Constantes:\n",
    "\n",
    "    φ ← (1 + √5) / 2                // Esta es la razón áurea (golden ratio), aproximadamente 1.618...\n",
    " \n",
    "    TOLERANCIA ← 1e-5              // Establece el umbral de error relativo permitido (10⁻⁵)\n",
    " \n",
    "    CIFRAS ← 3                     // Número de cifras significativas que se usarán para redondear\n",
    "\n",
    "Funciones:\n",
    " \n",
    "    FL_redondeo(num, cifras):\n",
    " \n",
    "        // Función que redondea un número a la cantidad de cifras significativas deseadas\n",
    " \n",
    "        Redondear num a \"cifras\" cifras significativas\n",
    " \n",
    "        Devolver número redondeado\n",
    "\n",
    "Inicio del algoritmo:\n",
    "   \n",
    "    x ← 0                          // Primer término de la sucesión de Fibonacci redondeada\n",
    "   \n",
    "    y ← 1                          // Segundo término de la sucesión\n",
    "   \n",
    "    i ← 0                          // Contador de iteraciones\n",
    "\n",
    "    Mientras verdadero:           // Bucle infinito que se detiene cuando se cumpla la condición de error\n",
    "\n",
    "        z ← FL_redondeo(x + y, CIFRAS)  // Siguiente término de la sucesión, redondeado\n",
    "\n",
    "        x ← y                      // Actualiza x al valor anterior de y\n",
    "\n",
    "        y ← z                      // Actualiza y al nuevo término calculado\n",
    "\n",
    "        i ← i + 1                  // Aumenta el contador de iteraciones\n",
    "\n",
    "        Si i > 0:                  // A partir de la segunda iteración (cuando ya hay dos términos previos)\n",
    "\n",
    "            razon ← FL_redondeo(y / x, CIFRAS)  // Calcula y redondea la razón entre los dos últimos términos\n",
    "\n",
    "            error ← abs((φ - razon) / φ)        // Calcula el error relativo respecto a φ\n",
    "\n",
    "            Si error < TOLERANCIA:              // Verifica si el error es suficientemente pequeño\n",
    "\n",
    "                Imprimir \"Iteración:\", i        // Muestra en qué iteración se alcanzó la precisión deseada\n",
    "\n",
    "                Terminar                        // Finaliza el algoritmo\n",
    "\n",
    "Fin\n"
   ]
  },
  {
   "cell_type": "markdown",
   "id": "9be98ddc",
   "metadata": {},
   "source": [
    "## Código"
   ]
  },
  {
   "cell_type": "code",
   "execution_count": 9,
   "id": "88c8e708",
   "metadata": {},
   "outputs": [
    {
     "name": "stdout",
     "output_type": "stream",
     "text": [
      "Simulando convergencia con Tolerancia=1e-05, Cifras Significativas=3\n",
      "La condición de error no se cumplió dentro del límite de 2000 iteraciones.\n"
     ]
    }
   ],
   "source": [
    "import math\n",
    "\n",
    "# --- Constantes del ejercicio ---\n",
    "TOLERANCIA = 1e-5\n",
    "CIFRAS = 3\n",
    "phi = (1 + math.sqrt(5)) / 2\n",
    "# --------------------------------\n",
    "\n",
    "# --- Función de redondeo a cifras significativas ---\n",
    "def FL_redondeo(num: float, cifras: int) -> float:\n",
    "    if num == 0:\n",
    "        return 0.0\n",
    "    else:\n",
    "        try:\n",
    "            s = f\"{num:.{cifras - 1}e}\"\n",
    "            return float(s)\n",
    "        except OverflowError:\n",
    "            return float('inf') * (1 if num > 0 else -1)\n",
    "        except Exception as e:\n",
    "            print(f\"Error durante redondeo: {e}\")\n",
    "            raise\n",
    "\n",
    "# --- Inicio del algoritmo principal ---\n",
    "\n",
    "x = FL_redondeo(0.0, CIFRAS) # F0\n",
    "y = FL_redondeo(1.0, CIFRAS) # F1\n",
    "\n",
    "i = 0 # Contador de iteraciones de la razón F_{i+1}/F_i\n",
    "\n",
    "max_iteraciones = 2000 # Límite de seguridad\n",
    "\n",
    "print(f\"Simulando convergencia con Tolerancia={TOLERANCIA}, Cifras Significativas={CIFRAS}\")\n",
    "\n",
    "while i < max_iteraciones:\n",
    "    # Calcular el siguiente término aplicando redondeo\n",
    "    z_raw = x + y\n",
    "    z = FL_redondeo(z_raw, CIFRAS)\n",
    "\n",
    "    # Actualizar términos\n",
    "    x = y\n",
    "    y = z\n",
    "\n",
    "    # Incrementar contador de iteración de la razón\n",
    "    i += 1\n",
    "\n",
    "    # Calcular y verificar la razón y el error\n",
    "    if i > 0:\n",
    "        if x == 0:\n",
    "             print(f\"Error: Denominador (x) es cero en iteración {i}.\")\n",
    "             break\n",
    "\n",
    "        razon_raw = y / x\n",
    "        razon = FL_redondeo(razon_raw, CIFRAS) # Redondear la razón\n",
    "\n",
    "        error = abs((phi - razon) / phi)\n",
    "\n",
    "        # --- VERIFICACIÓN DE LA CONDICIÓN ---\n",
    "        if error < TOLERANCIA:\n",
    "            # ESTA LÍNEA SE EJECUTA Y SE IMPRIME SI LA CONDICIÓN SE CUMPLE DENTRO DEL LÍMITE\n",
    "            print(f\"La condición de error relativo < {TOLERANCIA} se cumple por primera vez en la Iteración: {i}\")\n",
    "            break # Salir del bucle\n",
    "\n",
    "# --- Salida al finalizar el bucle ---\n",
    "if i == max_iteraciones:\n",
    "    # Si el bucle terminó sin que la condición se cumpliera (llegó al límite)\n",
    "    print(f\"La condición de error no se cumplió dentro del límite de {max_iteraciones} iteraciones.\")"
   ]
  }
 ],
 "metadata": {
  "kernelspec": {
   "display_name": ".venv",
   "language": "python",
   "name": "python3"
  },
  "language_info": {
   "codemirror_mode": {
    "name": "ipython",
    "version": 3
   },
   "file_extension": ".py",
   "mimetype": "text/x-python",
   "name": "python",
   "nbconvert_exporter": "python",
   "pygments_lexer": "ipython3",
   "version": "3.11.4"
  }
 },
 "nbformat": 4,
 "nbformat_minor": 5
}
