{
 "cells": [
  {
   "cell_type": "markdown",
   "id": "2aab92a2",
   "metadata": {},
   "source": [
    "# Algoritmo: Suma Acumulativa\n",
    "\n",
    "### Pseudocódigo (explicado)\n",
    "```plaintext\n",
    "ENTRADA: N (cantidad de elementos), x_1, x_2, ..., x_n (valores a sumar)\n",
    "\n",
    "1. Inicializar SUM en 0 (acumulador)\n",
    "2. Para cada i desde 1 hasta N:\n",
    "   2.1. SUM = SUM + x_i  (sumar el valor actual al acumulador)\n",
    "3. Devolver SUM y terminar\n",
    "\n",
    "Explicación simple: \n",
    "- Partimos de una suma en cero\n",
    "- Recorremos todos los números uno por uno\n",
    "- Vamos acumulando cada valor a la suma total\n",
    "- Finalmente retornamos el resultado"
   ]
  },
  {
   "cell_type": "markdown",
   "id": "e2d3071b",
   "metadata": {},
   "source": [
    "Implementacion  básica en Python"
   ]
  },
  {
   "cell_type": "code",
   "execution_count": 4,
   "id": "1334d0d9",
   "metadata": {},
   "outputs": [
    {
     "name": "stdout",
     "output_type": "stream",
     "text": [
      "Suma total: 28\n"
     ]
    }
   ],
   "source": [
    "def suma_acumulativa(n, numeros):\n",
    "    \"\"\"Calcula la suma de N números\"\"\"\n",
    "    sum_total = 0  # Paso 1: Inicializar acumulador\n",
    "    \n",
    "    for i in range(n):  # Paso 2: Recorrer elementos\n",
    "        sum_total += numeros[i]  # Sumar cada elemento\n",
    "        \n",
    "    return sum_total  # Paso 3: Retornar resultado\n",
    "\n",
    "# Ejemplo de uso:\n",
    "numeros = [5, 3, 8, 2, 10]\n",
    "n = len(numeros)\n",
    "print(\"Suma total:\", suma_acumulativa(n, numeros))"
   ]
  },
  {
   "cell_type": "markdown",
   "id": "a226e321",
   "metadata": {},
   "source": [
    "### Algoritmo Modificado: Suma de Serie Geométrica con Precisión\n",
    "\n",
    "#### Problema\n",
    "Determinar el número mínimo de términos $N$ de la serie:\n",
    "\n",
    "$$\n",
    "S = 1 + \\frac{1}{2} + \\frac{1}{4} + \\frac{1}{8} + \\cdots + \\frac{1}{2^{N-1}}\n",
    "$$\n",
    "\n",
    "para que el error absoluto respecto al valor límite teórico ($L = 2$) cumpla:\n",
    "\n",
    "$$\n",
    "| L - S_N | < 10^{-1}\n",
    "$$\n",
    "\n",
    "donde $S_N$ es la suma parcial de los primeros $N$ términos.\n",
    "\n",
    "#### Explicación\n",
    "El algoritmo original se modifica para:\n",
    "1. Generar términos sucesivos de la serie geométrica (cada término es la mitad del anterior)\n",
    "2. Comparar continuamente la suma parcial con el valor límite (2)\n",
    "3. Detenerse cuando el error absoluto sea menor que el umbral especificado\n",
    "4. Devolver tanto el número de términos como la suma alcanzada\n"
   ]
  },
  {
   "cell_type": "code",
   "execution_count": 7,
   "id": "bfba9443",
   "metadata": {},
   "outputs": [
    {
     "name": "stdout",
     "output_type": "stream",
     "text": [
      "Necesitamos sumar 5 términos\n",
      "La suma da 1.93750 (casi 2!)\n",
      "La diferencia con 2 es de 0.06250\n"
     ]
    }
   ],
   "source": [
    "def suma_serie_geometrica(error_maximo):\n",
    "    # Empezamos desde cero y con el primer número de la serie (el 1)\n",
    "    suma = 0.0\n",
    "    termino = 1.0\n",
    "    n = 0  # Esto va a contar cuántos números sumamos\n",
    "    \n",
    "    # Seguimos sumando hasta que estemos \"lo suficientemente cerca\" de 2\n",
    "    while abs(2 - suma) >= error_maximo:\n",
    "        # Vamos acumulando cada número de la serie\n",
    "        suma += termino\n",
    "        # El siguiente número es siempre la mitad del anterior\n",
    "        termino /= 2\n",
    "        # Cada vez que sumamos uno, aumentamos el contador\n",
    "        n += 1\n",
    "    \n",
    "    # Al final, decimos cuántos números usamos y a qué suma llegamos\n",
    "    return n, suma\n",
    "\n",
    "# Probamos con el error que nos piden (0.1)\n",
    "n_terminos, suma_parcial = suma_serie_geometrica(0.1)\n",
    "\n",
    "# Mostramos los resultados de forma entendible\n",
    "print(f\"Necesitamos sumar {n_terminos} términos\")\n",
    "print(f\"La suma da {suma_parcial:.5f} (casi 2!)\")\n",
    "print(f\"La diferencia con 2 es de {abs(2 - suma_parcial):.5f}\")"
   ]
  }
 ],
 "metadata": {
  "kernelspec": {
   "display_name": "base",
   "language": "python",
   "name": "python3"
  },
  "language_info": {
   "codemirror_mode": {
    "name": "ipython",
    "version": 3
   },
   "file_extension": ".py",
   "mimetype": "text/x-python",
   "name": "python",
   "nbconvert_exporter": "python",
   "pygments_lexer": "ipython3",
   "version": "3.12.7"
  }
 },
 "nbformat": 4,
 "nbformat_minor": 5
}
