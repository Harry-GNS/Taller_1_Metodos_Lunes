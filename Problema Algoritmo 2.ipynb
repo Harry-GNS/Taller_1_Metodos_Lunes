{
 "cells": [
  {
   "cell_type": "markdown",
   "id": "2aab92a2",
   "metadata": {},
   "source": [
    "# Algoritmo: Ordenamiento Burbuja\n",
    "\n",
    "### Pseudocódigo (explicado)\n",
    "1. Inicializar una bandera 'hubo_cambio' como verdadero\n",
    "2. Mientras hubo_cambio sea verdadero:\n",
    "   2.1. Cambiar hubo_cambio a falso\n",
    "   2.2. Para cada elemento en la lista (excepto el último):\n",
    "      2.2.1. Comparar el elemento actual con el siguiente\n",
    "      2.2.2. Si están en orden incorrecto:\n",
    "         - Intercambiarlos\n",
    "         - Cambiar hubo_cambio a verdadero\n",
    "3. Cuando no haya más cambios, devolver la lista ordenada\n",
    "\n",
    "Explicación simple: \n",
    "El método funciona revisando la lista varias veces como si fueran pasadas, comparando cada elemento con el que está a su lado e intercambiándolos cuando están en el orden equivocado. Cada pasada hace que el elemento más grande \"suba\" hasta su posición correcta como una burbuja. El proceso termina cuando en toda una pasada completa no se necesitó hacer ningún intercambio, lo que significa que la lista ya está ordenada."
   ]
  },
  {
   "cell_type": "markdown",
   "id": "e2d3071b",
   "metadata": {},
   "source": [
    "Implementacion  básica en Python"
   ]
  },
  {
   "cell_type": "code",
   "execution_count": 2,
   "id": "1334d0d9",
   "metadata": {},
   "outputs": [
    {
     "name": "stdout",
     "output_type": "stream",
     "text": [
      "Lista original: [64, 34, 25, 12, 22, 11, 90]\n",
      "Lista ordenada: [11, 12, 22, 25, 34, 64, 90]\n",
      "Se necesitaron 14 intercambios de posición\n"
     ]
    }
   ],
   "source": [
    "def bubble_sort_con_contador(lista):\n",
    "    total = len(lista)\n",
    "    intercambios = 0  # Inicializamos nuestro contador\n",
    "    \n",
    "    for i in range(total):\n",
    "        hubo_cambio = False\n",
    "        \n",
    "        for j in range(total - i - 1):\n",
    "            if lista[j] > lista[j+1]:\n",
    "                # Hacemos el intercambio\n",
    "                lista[j], lista[j+1] = lista[j+1], lista[j]\n",
    "                intercambios += 1  # Aumentamos el contador\n",
    "                hubo_cambio = True\n",
    "        \n",
    "        if not hubo_cambio:\n",
    "            break\n",
    "    \n",
    "    return lista, intercambios\n",
    "\n",
    "# Probamos el algoritmo\n",
    "numeros_desordenados = [64, 34, 25, 12, 22, 11, 90]\n",
    "print(\"Lista original:\", numeros_desordenados)\n",
    "\n",
    "lista_ordenada, total_intercambios = bubble_sort_con_contador(numeros_desordenados.copy())\n",
    "print(\"Lista ordenada:\", lista_ordenada)\n",
    "print(f\"Se necesitaron {total_intercambios} intercambios de posición\")"
   ]
  }
 ],
 "metadata": {
  "kernelspec": {
   "display_name": "base",
   "language": "python",
   "name": "python3"
  },
  "language_info": {
   "codemirror_mode": {
    "name": "ipython",
    "version": 3
   },
   "file_extension": ".py",
   "mimetype": "text/x-python",
   "name": "python",
   "nbconvert_exporter": "python",
   "pygments_lexer": "ipython3",
   "version": "3.12.7"
  }
 },
 "nbformat": 4,
 "nbformat_minor": 5
}
