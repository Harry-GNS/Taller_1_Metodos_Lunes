{
 "cells": [
  {
   "cell_type": "code",
   "execution_count": null,
   "id": "503ee517",
   "metadata": {},
   "outputs": [],
   "source": [
    "# Taller 1\n"
   ]
  }
 ],
 "metadata": {
  "language_info": {
   "name": "python"
  }
 },
 "nbformat": 4,
 "nbformat_minor": 5
}
